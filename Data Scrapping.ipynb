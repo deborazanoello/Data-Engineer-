{
 "cells": [
  {
   "cell_type": "code",
   "execution_count": null,
   "metadata": {},
   "outputs": [],
   "source": [
    "import requests\n",
    "from bs4 import BeautifulSoup\n",
    "\n",
    "# Fetch the HTML content of the page\n",
    "url = \"https://acheumarquiteto.caubr.gov.br/pesquisarProfissional\"\n",
    "html = requests.get(url).content\n",
    "soup = BeautifulSoup(html, 'html.parser')\n",
    "\n",
    "# Initialize the base dictionary for storing the values\n",
    "base = {\n",
    "    'liq diaria': [],\n",
    "    'ultimo rend': [],\n",
    "    'yield': [],\n",
    "    'patrim liquido': [],\n",
    "    'valor patrim': [],\n",
    "    'rent mes': [],\n",
    "    'p/vp': []\n",
    "}\n",
    "\n",
    "# Define the index keys for the dictionary\n",
    "index = list(base.keys())\n",
    "\n",
    "# Search for all span elements with the class \"indicator-value\"\n",
    "indicator_values = soup.find_all('span', class_='indicator-value')\n",
    "\n",
    "# We are assuming that each of the first 6 indicators is within the first 6 <span> elements with this class\n",
    "for i in range(6):\n",
    "    value = indicator_values[i].get_text(strip=True)\n",
    "    base[index[i]].append(value)\n",
    "\n",
    "# For the 'p/vp' field, it might be a different span or location; adjust if necessary\n",
    "# Assuming it's the next span with the same class\n",
    "p_vp_value = indicator_values[6].get_text(strip=True)\n",
    "base['p/vp'].append(p_vp_value)\n",
    "\n",
    "# Print the collected data\n",
    "print(base)\n"
   ]
  }
 ],
 "metadata": {
  "language_info": {
   "name": "python"
  }
 },
 "nbformat": 4,
 "nbformat_minor": 2
}
