{
 "cells": [
  {
   "cell_type": "code",
   "execution_count": null,
   "metadata": {},
   "outputs": [],
   "source": [
    "\n",
    "\n",
    "import snowflake.connector\n",
    "import pandas as pd\n",
    "\n",
    "# Conectar ao Snowflake\n",
    "conn = snowflake.connector.connect(\n",
    "    user='your_username',\n",
    "    password='your_password',\n",
    "    account='your_account',\n",
    "    warehouse='your_warehouse',\n",
    "    database='your_database',\n",
    "    schema='your_schema'\n",
    ")\n",
    "\n",
    "# Executar consulta\n",
    "query = \"\"\"\n",
    "SELECT\n",
    "    campaign_id AS \"Campaign ID\",\n",
    "    campaign_name AS \"Campaign Name\",\n",
    "    start_date AS \"Start Date\",\n",
    "    end_date AS \"End Date\",\n",
    "    budget AS \"Budget\",\n",
    "    actual_spend AS \"Actual Spend\",\n",
    "    impressions AS \"Impressions\",\n",
    "    clicks AS \"Clicks\",\n",
    "    conversions AS \"Conversions\"\n",
    "FROM\n",
    "    marketing_campaigns\n",
    "\"\"\"\n",
    "\n",
    "# Obter resultados da consulta\n",
    "df = pd.read_sql(query, conn)\n",
    "\n",
    "# Exibir os primeiros registros do DataFrame\n",
    "print(df.head())\n",
    "\n",
    "# Fechar conexão\n",
    "conn.close()\n"
   ]
  }
 ],
 "metadata": {
  "language_info": {
   "name": "python"
  }
 },
 "nbformat": 4,
 "nbformat_minor": 2
}
